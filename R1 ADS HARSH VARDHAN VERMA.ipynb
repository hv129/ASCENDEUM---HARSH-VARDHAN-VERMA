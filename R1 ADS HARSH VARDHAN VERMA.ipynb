{
 "cells": [
  {
   "cell_type": "code",
   "execution_count": null,
   "id": "e50b9c86",
   "metadata": {},
   "outputs": [],
   "source": [
    "def matrix_manipulation(n):\n",
    "\n",
    "    a,b,c,d = 0,n-1,0,n-1\n",
    "    cnt = 0\n",
    "    val = 1\n",
    "\n",
    "    m = [[0] * n for _ in range(n)]\n",
    "\n",
    "    while(val <= n*n):\n",
    "        x = cnt%4\n",
    "\n",
    "        if x == 0:\n",
    "            for j in range(c,d+1):\n",
    "                m[a][j] = val\n",
    "                val += 1\n",
    "            a += 1\n",
    "        if x == 1:\n",
    "            for i in range(a,b+1):\n",
    "                m[i][d] = val\n",
    "                val += 1\n",
    "            d -= 1\n",
    "        if x == 2:\n",
    "            for j in reversed(range(c,d+1)):\n",
    "                m[b][j] = val\n",
    "                val += 1\n",
    "            b -= 1\n",
    "        if x == 3:\n",
    "            for i in reversed(range(a,b+1)):\n",
    "                m[i][c] = val\n",
    "                val += 1\n",
    "            c += 1\n",
    "        \n",
    "        cnt += 1\n",
    "\n",
    "    return m"
   ]
  },
  {
   "cell_type": "code",
   "execution_count": null,
   "id": "6b6df05b",
   "metadata": {},
   "outputs": [],
   "source": [
    "n = 4\n",
    "matrix_manipulation(n)"
   ]
  }
 ],
 "metadata": {
  "language_info": {
   "name": "python"
  }
 },
 "nbformat": 4,
 "nbformat_minor": 5
}
